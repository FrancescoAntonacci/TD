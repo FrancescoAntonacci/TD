{
 "cells": [
  {
   "cell_type": "code",
   "execution_count": null,
   "id": "97cede53",
   "metadata": {},
   "outputs": [],
   "source": [
    "print(\"Hello World!\")\n",
    "\n",
    "print(\"Hello World!\")"
   ]
  },
  {
   "cell_type": "code",
   "execution_count": null,
   "id": "8fe0189c",
   "metadata": {},
   "outputs": [],
   "source": []
  }
 ],
 "metadata": {
  "kernelspec": {
   "display_name": "Python 3",
   "language": "python",
   "name": "python3"
  },
  "language_info": {
   "name": "python",
   "version": "3.10.12"
  }
 },
 "nbformat": 4,
 "nbformat_minor": 5
}
