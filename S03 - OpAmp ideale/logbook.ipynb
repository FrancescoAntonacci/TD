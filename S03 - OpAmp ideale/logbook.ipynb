{
 "cells": [
  {
   "cell_type": "markdown",
   "id": "d3a7b8eb",
   "metadata": {},
   "source": [
    "# Task 1\n",
    "Si è aperto il datasheet di OP07/OP77. Si riporta di seguito *la piedinatura, i  collegamenti, l'alimentazione e l'absolute maximum ratings*.\n",
    "\n",
    "# Piedinatura e collegamenti\n",
    "\n",
    "1. $V_{OS} TRIM$: tensione in input di offset.\n",
    "2. $-IN$: segnale in porta invertente.\n",
    "3. $+IN$: segnale in porta non invertente.\n",
    "4. $V-$: alimentazione a potenziale più basso.\n",
    "5. $NC$: da non connettere\n",
    "6. $OUT$: segnale di output.\n",
    "7. $V+$: alimentazione a potenziale più alto\n",
    "8. $V_{OS} TRIM$: tensione in input di offset.\n",
    "\n",
    "La porta 1. e 8. costituiscono una coppia differenziale che consente di imporre che a tensioni uguali in input si abbia una tensione nulla in output.\n",
    "\n",
    "# Alimentazione e *Absolute maximum ratings*\n",
    "\n",
    "Il manuale dichiara una potenza utilizzata in regime operativo di $50 \\, \\text{mW}$.\n",
    "\n",
    "| Parameter | Rating | \n",
    "| ---       | ----- |\n",
    "| Supply Voltage | $\\pm 22$ V | \n",
    "| Differential Input Voltage | $\\pm 30$ V |\n",
    "| Input Voltage | $\\pm 22$ V |\n",
    "| Output Short-Circuit Duration | Indefinite |\n",
    "| Storage Temperature Range | −65°C to +150°C |\n",
    "| Operating Temperature Range | −25°C to +85°C |\n",
    "| Junction Temperature (TJ) | −65°C to +150°C |\n",
    "| Lead Temperature (Soldering, 60 sec) | 300°C |"
   ]
  },
  {
   "cell_type": "markdown",
   "id": "ab73ce75",
   "metadata": {},
   "source": [
    "# Task 2 \n",
    "Si eseguono i collegamenti necessari in questo ordine:\n",
    "1. riferimento di terra;\n",
    "2. ingressi e uscita dell’OpAmp;\n",
    "3. le due alimentazioni (per ultime).\n",
    "\n",
    "Si imposta l’alimentatore duale in maniera che fornisca una uscita a +5V e una a −5 V rispetto al contatto di terra. \n",
    "Si verifica i voltaggi effettivi erogati e si riportano:\n",
    "$$  \n",
    "\\begin{align*}\n",
    "&V_{IN}= (4.999 \\pm 0.004) \\,\\text{V}, \\\\\n",
    "&V_{OUT}= (5.0023 \\pm 0.004 )\\ \\text{V}.\n",
    "\\end{align*}\n",
    "$$"
   ]
  },
  {
   "cell_type": "code",
   "execution_count": 3,
   "id": "48439edd",
   "metadata": {},
   "outputs": [
    {
     "name": "stdout",
     "output_type": "stream",
     "text": [
      "Dispositivo #1 [SN:210321B5DD07, hdwf=1] connesso!\n",
      "Configurazione #1\n",
      "Dispositivo disconnesso.\n"
     ]
    }
   ],
   "source": [
    "import tdwf\n",
    "\n",
    "ad2=tdwf.AD2()\n",
    "ad2.vdd = +5\n",
    "ad2.vss = -5\n",
    "ad2.power(True)\n",
    "# impostazione voltaggio positivo a +4V\n",
    "# impostazione voltaggio negativo a -3V\n",
    "# attiva l’alimentatore (False lo spegne)\n",
    "input(\"Press Enter to continue...\")\n",
    "ad2.close()"
   ]
  },
  {
   "cell_type": "markdown",
   "id": "b7292f7e",
   "metadata": {},
   "source": [
    "# Task 3 \n",
    "Si monta sulla breadboard il circuito dell’amplificatore invertente .\n",
    "Si scelgono due resistenze il cui rapporto è circa 10:\n",
    "$$ R_{2}=(994\\pm 1 )\\Omega\\\\ R_{1}=(9.97\\pm 0.04 )\\text{k}\\Omega $$\n",
    " \n",
    "\n",
    "Si collega il circuito alla scheda di acquisizione e W1 all’ingresso del circuito, che verrà monitorato\n",
    "da Ch1 e connettendo l’uscita a Ch2. \n",
    "\n",
    "Si  utilizza il codice *dac+adc.ipynb* per eseguire i seguenti test sperimentali:\n",
    "1. Verifica che l’amplificatore funziona come previsto:\n",
    "\n",
    "\n",
    "Come si osserva in figura *AmplificatoreInvertente.pdf* si ha l'inversione del segnale e un'amplificazione, come previsto, di circa 10 volte, ossia il rapporto tra le resistenze.\n",
    "\n",
    "\n",
    "2. studiare che cosa succede quando $V_{OUT}$ si avvicina alle tensioni di alimentazione.\n",
    "\n",
    "\n",
    "Nel caso in cui $V_{OUT}$ si avvicina alle tensioni di alimentazione, si guardi  figura *AmplificatoreInvertente.pdf*, si osserva che il segnale viene tagliato e limitato da queste.\n",
    "\n",
    "\n",
    "\n"
   ]
  },
  {
   "cell_type": "markdown",
   "id": "bafa3943",
   "metadata": {},
   "source": [
    "# Task 4 \n",
    "Si ripete lo stesso studio fatto per il primo circuito con il setup di un circuito invertente e si salva il risultato su un grafico conclusivo *AmpificatoreNonInvertente.pdf*."
   ]
  },
  {
   "cell_type": "markdown",
   "id": "dbe2ed38",
   "metadata": {},
   "source": [
    "# Task 5 \n",
    "Si realizza un filtro CRRC e si inserisce nel mezzo  un buffer tra i due stadi e si verifica il disaccoppiamento.Si assembla il circuito con gli stessi componenti dell'eseprienza S02. Si usa il codice *sweepfreqbono.ipynb* per ottenere sperimentalmente la funzione di trasferimento.\n",
    "Ci si aspetta che la funzione di risposta complessiva sia uguale al prodotto della risposta dei due stadi: per verificare questo abbiamo effettuato un best-fit. Si è visto, tuttavia, che il datasheet non è affidabile, in quanto dichiara una frequenza di taglio dell'OpAmp pari a $1 \\, \\text{MHz}$, ma già a partire da $10 \\, \\text{kHz}$ inizia a presentare un comportamento non lineare che si discosta significativamente dal modello teorico da noi atteso manifestandosi come un'andamento asintotico più ripido di quello atteso. Abbiamo quindi ripetuto le misure andando a dimimuire la frequenza di taglio del filtro passa-basso diminuendo la resistenza $R_2$ dal valore nominale di $6.8 \\, \\text{k}\\Omega$. <br /> e l'andamento asintotico risulta coerente con quanto ci si aspetta.\n",
    "\n",
    "I risultati del best-fit sono riportati nei file chiamati *PBFfisaccoppiato....pdf*. In entrambi i casi si osservano comportamenti dei residui legati ad errori prevalentemente sistematici: il test del $X^{2}$ non ha significato.\n",
    "\n",
    "I risultati del primo best-fit sono:\n",
    "$$\n",
    "f_{1fit}=16.0\\pm0.2 \\text{Hz} , f_{2fit}=2.72\\pm 0.05\\text{kHz} \\\\\n",
    "f_{1exp}=15.9\\pm0.6 \\text{Hz} , f_{2exp}=3.4\\pm 0.1\\text{kHz} \n",
    "$$\n",
    "Dove naturalmente si ha un risultato compatibile solo per le basse frequenze.\n",
    "\n",
    "I risultati del secondo best-fit sono:\n",
    "$$\n",
    "f_{1fit}=16.09\\pm0.08 \\text{Hz} , f_{2fit}=473\\pm 2\\text{Hz} \\\\\n",
    "f_{1exp}=15.9\\pm0.6 \\text{Hz} , f_{2exp}=0.50\\pm 0.04\\text{kHz} \n",
    "$$\n",
    "I risultati sono qua compatibili entro le barre di errore.\n",
    "\n",
    "Infine si è rianalizzato i dati del primo caso, dove si osservano effetti non lineari: si è eseguito un bestfit con una funzione modello che suppone che il buffer si comporti come un LPF ideale in cascata.\n",
    "I risultati sono riportati nei grafici e le frequenze ottenute sono:\n",
    "$$\n",
    "f_{1fit}=16.0\\pm0.2 \\text{Hz} , f_{2fit}=3.6\\pm 0.2\\text{kHz} , f_{LPF\\_buffer\\_fit}=8\\pm 1\\text{kHz}\\\\\n",
    "f_{1exp}=15.9\\pm0.6 \\text{Hz} , f_{2exp}=3.4\\pm 0.1\\text{kHz} \n",
    "$$\n",
    "Le frequenze fittate risultano adesso compatibili con quelle che si aspettano.\n",
    "I residui migliorano ma sono comunque presenti errori sistematici importanti: il contributo dominante agli errori sistematici del primo modello era proprio dovuto al modello che non considerava un andamento asintotico come $\\frac{1}{\\omega^{2}}$, tuttavia neppure questo contributo riesce a descrivere la non linearità del fenomeno.\n",
    "Questo può anche semplicemente essere dovuto alla potenziale fallacia dell'impotesi di quest'ultimo modello adottato."
   ]
  }
 ],
 "metadata": {
  "kernelspec": {
   "display_name": "myenv",
   "language": "python",
   "name": "python3"
  },
  "language_info": {
   "codemirror_mode": {
    "name": "ipython",
    "version": 3
   },
   "file_extension": ".py",
   "mimetype": "text/x-python",
   "name": "python",
   "nbconvert_exporter": "python",
   "pygments_lexer": "ipython3",
   "version": "3.12.11"
  }
 },
 "nbformat": 4,
 "nbformat_minor": 5
}
